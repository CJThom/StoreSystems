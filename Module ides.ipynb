{
 "cells": [
  {
   "cell_type": "code",
   "execution_count": null,
   "metadata": {
    "collapsed": true
   },
   "outputs": [],
   "source": ""
  },
  {
   "metadata": {},
   "cell_type": "markdown",
   "source": [
    "common/                           # works in any project, zero product knowledge\n",
    "  kotlin/                         # Either/Result, value classes, time, paging, ids\n",
    "  di/                             # tiny DI glue (Koin/Hilt adapters OR ServiceLocator)\n",
    "  presentation/              # MVI base, State/Effect/Reducer (commonMain, no Compose)\n",
    "  networking/                     # Ktor client, interceptors, retry\n",
    "  persistence/                    # Room KMP drivers + helpers\n",
    "  security/                       # secure storage API + expect/actual stubs\n",
    "  telemetry/                  # glassbox,\n",
    "  feature-flags/              # toggle API (bool/int/string) + evaluation context\n",
    "  scanning/               # Android impls (CameraX/MLKit/Zebra intents) in androidMain\n",
    "\n",
    "foundation/                       # reusable utilities with UI/brand-free building blocks\n",
    "  design-system/                  # theme tokens, colors, shapes, typography (no brand text)\n",
    "  component/                     # generic Compose components (lists, toolbars, fields)\n",
    "  config/\n",
    "\n",
    "core/                              # reusable capabilities (split where it pays)\n",
    "  identity/\n",
    "    identity-api/                 # interfaces + domain models (User, Session)\n",
    "    identity-domain/              # use cases (SignIn, Refresh, GetProfile)\n",
    "    identity-data/                # impls using common.networking/security/persistence\n",
    "  sync-queue/\n",
    "    sync-queue-api/\n",
    "    sync-queue-domain/\n",
    "    sync-queue-data/\n",
    "    sync-queue-presentation/                # optional: UI-agnostic state/flows (not Compose)\n",
    "\n",
    "feature/                          # product slices (vertical)\n",
    "  login/\n",
    "    login-api/                    # FeatureEntry, routes\n",
    "    login-domain/\n",
    "    login-data/\n",
    "    login-presentation/                     # Compose + VMs (depends on presentation-core + foundation)\n",
    "  history/\n",
    "    history-api/\n",
    "    history-domain/\n",
    "    history-data/\n",
    "    history-presentation/\n",
    "  picking/\n",
    "    picking-api/\n",
    "    picking-domain/\n",
    "    picking-data/\n",
    "    picking-presentation/\n",
    "  collect/\n",
    "    collect-api/\n",
    "    collect-domain/\n",
    "    collect-data/\n",
    "    collect-presentation/\n",
    "\n",
    "app/                              # wiring only\n",
    "  picking/                         # standalone: picking + login + identity\n",
    "  collect/\n",
    "  super/                           # experimental super app (tabs/flows differ)\n"
   ]
  },
  {
   "metadata": {},
   "cell_type": "code",
   "outputs": [],
   "execution_count": null,
   "source": ""
  }
 ],
 "metadata": {
  "kernelspec": {
   "display_name": "Kotlin",
   "language": "kotlin",
   "name": "kotlin"
  },
  "language_info": {
   "name": "kotlin",
   "version": "1.9.23",
   "mimetype": "text/x-kotlin",
   "file_extension": ".kt",
   "pygments_lexer": "kotlin",
   "codemirror_mode": "text/x-kotlin",
   "nbconvert_exporter": ""
  }
 },
 "nbformat": 4,
 "nbformat_minor": 0
}
